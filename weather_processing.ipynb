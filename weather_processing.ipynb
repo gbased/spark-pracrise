{
 "cells": [
  {
   "cell_type": "code",
   "execution_count": 1,
   "id": "2f05111c-6dfb-4f28-8e2a-033a7d539b6a",
   "metadata": {},
   "outputs": [],
   "source": [
    "from pyspark.sql import SparkSession\n",
    "from pyspark.sql.functions import *"
   ]
  },
  {
   "cell_type": "code",
   "execution_count": 2,
   "id": "c83a0af8-da0f-45e6-b021-872d67feaff3",
   "metadata": {},
   "outputs": [],
   "source": [
    "spark = SparkSession.builder.appName(\"weather\").getOrCreate()"
   ]
  },
  {
   "cell_type": "code",
   "execution_count": 4,
   "id": "a815bf51-325e-40a1-8a1c-45d7a912f735",
   "metadata": {},
   "outputs": [],
   "source": [
    "df = spark.read.csv(\"data/weather_dir/weather_data.csv\", header=True, inferSchema=True)"
   ]
  },
  {
   "cell_type": "markdown",
   "id": "36a216e6-d510-4605-a5d1-bb94e6746269",
   "metadata": {},
   "source": [
    "#Нахождение среднего значения по столбцам"
   ]
  },
  {
   "cell_type": "code",
   "execution_count": 5,
   "id": "370a5b88-dd86-4825-8de0-a07b90e571b0",
   "metadata": {},
   "outputs": [],
   "source": [
    "mean_temp = df.select(mean(df[\"temperature\"])).collect()[0][0]\n",
    "mean_prec = df.select(mean(df[\"precipitation\"])).collect()[0][0]\n",
    "mean_ws = df.select(mean(df[\"wind_speed\"])).collect()[0][0]"
   ]
  },
  {
   "cell_type": "markdown",
   "id": "9a558f77-3960-479a-96e3-725452934d5e",
   "metadata": {},
   "source": [
    "Заполнение пустых значений на средние по каждому столбцу"
   ]
  },
  {
   "cell_type": "code",
   "execution_count": 6,
   "id": "120419f4-69a6-46ea-bc12-974e2509d52b",
   "metadata": {},
   "outputs": [
    {
     "name": "stdout",
     "output_type": "stream",
     "text": [
      "+----------+----------+-------------------+------------------+-------------------+\n",
      "|station_id|      date|        temperature|     precipitation|         wind_speed|\n",
      "+----------+----------+-------------------+------------------+-------------------+\n",
      "| station_7|2022-06-28| -6.751842212861652| 23.67004407474563|  5.458999894629757|\n",
      "| station_4|2020-04-07|  -9.57484426026233|2.9858244485444665|  6.828505392085966|\n",
      "| station_8|2018-12-22|  19.34342035369938| 33.58211407730149|  8.975576079892296|\n",
      "| station_5|2021-09-09| 30.880953114964086|29.110437988411558|  18.26465360842913|\n",
      "| station_7|2023-02-07| 23.459048180599673|49.510444679381074|  3.787868357696922|\n",
      "|station_10|2018-05-07|  27.52561802563259|11.957938889112151|0.10053105219606229|\n",
      "| station_3|2019-08-27|  4.287905745111988|26.536867764341793|  1.201928207563403|\n",
      "| station_7|2023-04-13| 19.244547722319886|32.547866755903634| 18.095326833602357|\n",
      "| station_8|2020-10-10| 1.2541744266864718| 32.22955873711718| 12.950329296867263|\n",
      "| station_5|2018-02-20|   11.5302773181184|28.064677147420134|  5.460812386556135|\n",
      "| station_4|2021-12-01|   8.89809079209174| 38.84640051636127|  3.543850020223822|\n",
      "| station_8|2022-11-28| -9.386771291368737|10.249060476340821|  5.885334732742287|\n",
      "| station_8|2022-06-25|   3.22472562013785| 36.28136001372079|  2.295938545025602|\n",
      "| station_3|2022-07-04|  37.82933652894106| 30.98672857165446|  18.83065820568882|\n",
      "| station_6|2021-04-20| -5.085184537103476| 44.80375558972867| 15.684123487305337|\n",
      "| station_5|2023-01-29|-11.971775823230677|42.359721951679084|  9.247823538250815|\n",
      "| station_2|2019-07-21|  5.114837297436118|15.757351956627662| 17.299252102304038|\n",
      "| station_8|2020-07-24| 27.420264151608883|13.811866248757653|  4.989164085864646|\n",
      "| station_6|2023-04-19| 14.928893786798334| 49.08266619262239|  14.34241136944387|\n",
      "| station_2|2021-08-25|  20.85848963429467|26.363259045762828|  17.12264998027487|\n",
      "+----------+----------+-------------------+------------------+-------------------+\n",
      "only showing top 20 rows\n",
      "\n"
     ]
    }
   ],
   "source": [
    "df.na.fill({\"temperature\": mean_temp,\n",
    "            \"precipitation\": mean_prec,\n",
    "            \"wind_speed\": mean_ws})\n",
    "df.show()"
   ]
  },
  {
   "cell_type": "markdown",
   "id": "827a1dbf-82a9-4baa-b7b6-c837c40630d7",
   "metadata": {},
   "source": [
    "Топ-5 самых жарких дней за всё время наблюдений"
   ]
  },
  {
   "cell_type": "code",
   "execution_count": 19,
   "id": "a9784ba7-10c3-4612-9e2e-46f1efb5e201",
   "metadata": {},
   "outputs": [
    {
     "name": "stdout",
     "output_type": "stream",
     "text": [
      "+----------+------------------+\n",
      "|      date|       temperature|\n",
      "+----------+------------------+\n",
      "|2021-08-20|39.982828249354846|\n",
      "|2023-12-02| 39.96797489293784|\n",
      "|2022-03-28|  39.8246894248997|\n",
      "|2019-02-11| 39.76737697836647|\n",
      "|2020-06-10| 39.69147838355929|\n",
      "+----------+------------------+\n",
      "\n"
     ]
    }
   ],
   "source": [
    "df.select(col(\"date\"), col(\"temperature\")).orderBy(col(\"temperature\").desc()).limit(5).show()"
   ]
  },
  {
   "cell_type": "markdown",
   "id": "8d8f7a69-ab9e-43ea-a509-a3fbd8b95cf9",
   "metadata": {},
   "source": [
    " Метеостанция с наибольшим количеством осадков за последний год"
   ]
  },
  {
   "cell_type": "code",
   "execution_count": 17,
   "id": "0e1fb1b9-f5ba-490e-852c-5e6cd8b3d1d9",
   "metadata": {},
   "outputs": [
    {
     "name": "stdout",
     "output_type": "stream",
     "text": [
      "+----------+------------------+\n",
      "|station_id|sum(precipitation)|\n",
      "+----------+------------------+\n",
      "| station_5| 642.9302626767898|\n",
      "+----------+------------------+\n",
      "\n"
     ]
    }
   ],
   "source": [
    "last_year_df = df.where(year(\"date\") == 2023)\n",
    "station_precip = last_year_df.groupBy(\"station_id\").sum(\"precipitation\").orderBy(col(\"sum(precipitation)\").desc()).limit(1)\n",
    "\n",
    "station_precip.show()"
   ]
  },
  {
   "cell_type": "markdown",
   "id": "7513ae71-86ce-44dd-a35e-87ada907bab2",
   "metadata": {},
   "source": [
    "Средняя температура по месяцам"
   ]
  },
  {
   "cell_type": "code",
   "execution_count": 22,
   "id": "84e0f521-8bcc-409b-b307-ec4441c31d5a",
   "metadata": {},
   "outputs": [
    {
     "name": "stdout",
     "output_type": "stream",
     "text": [
      "+-----+------------------+\n",
      "|month|  avg(temperature)|\n",
      "+-----+------------------+\n",
      "|    1|11.356518462550754|\n",
      "|    2| 9.067229891101926|\n",
      "|    3| 7.244080205633994|\n",
      "|    4|12.024529009744693|\n",
      "|    5| 9.902883346912718|\n",
      "|    6|13.421092297254138|\n",
      "|    7|6.1857183016954576|\n",
      "|    8|  10.9678002814186|\n",
      "|    9| 9.596744236573942|\n",
      "|   10|  9.09884344821895|\n",
      "|   11| 7.265889994697494|\n",
      "|   12|11.218592100674337|\n",
      "+-----+------------------+\n",
      "\n"
     ]
    }
   ],
   "source": [
    "monthly_avg_temp = df.withColumn(\"month\", month(\"date\")).groupBy(\"month\").avg(\"temperature\").orderBy(\"month\")\n",
    "monthly_avg_temp.show()"
   ]
  },
  {
   "cell_type": "code",
   "execution_count": null,
   "id": "619a41da-b8f7-429b-a21e-83c7901230ea",
   "metadata": {},
   "outputs": [],
   "source": []
  }
 ],
 "metadata": {
  "kernelspec": {
   "display_name": "Python 3 (ipykernel)",
   "language": "python",
   "name": "python3"
  },
  "language_info": {
   "codemirror_mode": {
    "name": "ipython",
    "version": 3
   },
   "file_extension": ".py",
   "mimetype": "text/x-python",
   "name": "python",
   "nbconvert_exporter": "python",
   "pygments_lexer": "ipython3",
   "version": "3.12.4"
  }
 },
 "nbformat": 4,
 "nbformat_minor": 5
}
