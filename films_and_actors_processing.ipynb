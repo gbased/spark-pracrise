{
 "cells": [
  {
   "cell_type": "code",
   "execution_count": 1,
   "id": "8a597341-bca5-4ddd-950c-d7df429685ad",
   "metadata": {},
   "outputs": [],
   "source": [
    "from pyspark.sql import SparkSession\n",
    "from pyspark.sql.functions import *"
   ]
  },
  {
   "cell_type": "code",
   "execution_count": 2,
   "id": "fb48d8d2-f185-4338-947b-c0f019b239db",
   "metadata": {},
   "outputs": [],
   "source": [
    "spark = SparkSession.builder.appName(\"films\").getOrCreate()"
   ]
  },
  {
   "cell_type": "code",
   "execution_count": 6,
   "id": "fa80d2a5-4873-41d8-af9a-0360e6b3534b",
   "metadata": {},
   "outputs": [],
   "source": [
    "movies_df = spark.read.csv(\"data/films_dir/movies.csv\", header=True, inferSchema=True)\n",
    "actors_df = spark.read.csv(\"data/films_dir/actors.csv\", header=True, inferSchema=True)\n",
    "movie_actors_df = spark.read.csv(\"data/films_dir/movie_actors.csv\", header=True, inferSchema=True)"
   ]
  },
  {
   "cell_type": "markdown",
   "id": "4e8eb129-a7e4-47f7-bd40-3cfbb73484c5",
   "metadata": {},
   "source": [
    "Создание временных таблиц"
   ]
  },
  {
   "cell_type": "code",
   "execution_count": 9,
   "id": "56a43240-53ec-4427-88b1-66757bca457f",
   "metadata": {},
   "outputs": [],
   "source": [
    "movies_df.createOrReplaceTempView(\"movies\")\n",
    "actors_df.createOrReplaceTempView(\"actors\")\n",
    "movie_actors_df.createOrReplaceTempView(\"movie_actors\")"
   ]
  },
  {
   "cell_type": "markdown",
   "id": "6b0a0b59-bcee-4f47-ba67-d728f4ea9194",
   "metadata": {},
   "source": [
    "Топ-5 жанров по количеству фильмов"
   ]
  },
  {
   "cell_type": "code",
   "execution_count": 15,
   "id": "62558fa4-a6d5-4e2a-96a1-d43b662a7eaa",
   "metadata": {},
   "outputs": [
    {
     "name": "stdout",
     "output_type": "stream",
     "text": [
      "+------+----------+\n",
      "| genre|num_movies|\n",
      "+------+----------+\n",
      "| Drama|         6|\n",
      "|Action|         6|\n",
      "|Comedy|         4|\n",
      "|Horror|         2|\n",
      "|Sci-Fi|         2|\n",
      "+------+----------+\n",
      "\n"
     ]
    }
   ],
   "source": [
    "top_5_genres = spark.sql(\"\"\"\n",
    "SELECT genre, count(*) as num_movies FROM movies\n",
    "    GROUP BY genre\n",
    "    ORDER BY num_movies DESC\n",
    "    LIMIT 5\n",
    "\"\"\")\n",
    "top_5_genres.show()"
   ]
  },
  {
   "cell_type": "markdown",
   "id": "e3c7574e-6a75-481d-a218-0bd29bbec10d",
   "metadata": {},
   "source": [
    "Актер с наибольшим количеством фильмов"
   ]
  },
  {
   "cell_type": "code",
   "execution_count": 19,
   "id": "146f6d74-753e-436e-a6f3-8d679b9198c6",
   "metadata": {},
   "outputs": [
    {
     "name": "stdout",
     "output_type": "stream",
     "text": [
      "+--------+----------+\n",
      "|    name|num_movies|\n",
      "+--------+----------+\n",
      "|Actor_17|         5|\n",
      "+--------+----------+\n",
      "\n"
     ]
    }
   ],
   "source": [
    "top_actor = spark.sql(\"\"\"\n",
    "SELECT a.name, COUNT(*) as num_movies\n",
    "    FROM actors a\n",
    "        JOIN movie_actors ma \n",
    "        ON a.actor_id = ma.actor_id\n",
    "    GROUP BY a.name\n",
    "    ORDER BY num_movies DESC\n",
    "    LIMIT 1\n",
    "\"\"\")\n",
    "\n",
    "top_actor.show()"
   ]
  },
  {
   "cell_type": "markdown",
   "id": "65a420d5-83a5-4b98-a0c7-3c78e502150b",
   "metadata": {},
   "source": [
    "Средний бюджет фильмов по жанрам"
   ]
  },
  {
   "cell_type": "code",
   "execution_count": 20,
   "id": "1654eae1-a5a0-4976-b2e3-5e1852a0b529",
   "metadata": {},
   "outputs": [
    {
     "name": "stdout",
     "output_type": "stream",
     "text": [
      "+------+--------------------+\n",
      "| genre|          avg_budget|\n",
      "+------+--------------------+\n",
      "| Drama| 6.076021856166667E7|\n",
      "|Horror|      8.7281876775E7|\n",
      "|Comedy|     5.20709662225E7|\n",
      "|Action|2.7492742561666667E7|\n",
      "|Sci-Fi|       7.809715175E7|\n",
      "+------+--------------------+\n",
      "\n"
     ]
    }
   ],
   "source": [
    "avg_budget_by_genre = spark.sql(\"\"\"\n",
    "SELECT genre, AVG(budget) as avg_budget\n",
    "FROM movies\n",
    "GROUP BY genre\n",
    "\"\"\")\n",
    "\n",
    "avg_budget_by_genre.show()"
   ]
  },
  {
   "cell_type": "markdown",
   "id": "9e92cf8a-760e-4c73-ab95-33157cad0510",
   "metadata": {},
   "source": [
    "Фильмы с более чем одним актером из одной страны"
   ]
  },
  {
   "cell_type": "code",
   "execution_count": 22,
   "id": "55d23659-c4d4-4007-a504-191cfdb4e4cb",
   "metadata": {},
   "outputs": [
    {
     "name": "stdout",
     "output_type": "stream",
     "text": [
      "+--------+---------+----------+\n",
      "|   title|  country|num_actors|\n",
      "+--------+---------+----------+\n",
      "| Movie_7|    India|         2|\n",
      "| Movie_3|      USA|         2|\n",
      "|Movie_10|       UK|         2|\n",
      "|Movie_15|    India|         2|\n",
      "|Movie_18|Australia|         2|\n",
      "| Movie_1|    India|         3|\n",
      "| Movie_2|      USA|         2|\n",
      "| Movie_7|      USA|         2|\n",
      "|Movie_10|      USA|         2|\n",
      "+--------+---------+----------+\n",
      "\n"
     ]
    }
   ],
   "source": [
    "movies_with_multiple_actors_same_country = spark.sql(\"\"\"\n",
    "SELECT m.title, a.country, COUNT(*) as num_actors\n",
    "FROM movies m\n",
    "JOIN movie_actors ma ON m.movie_id = ma.movie_id\n",
    "JOIN actors a ON ma.actor_id = a.actor_id\n",
    "GROUP BY m.title, a.country\n",
    "HAVING num_actors > 1\n",
    "\"\"\")\n",
    "\n",
    "movies_with_multiple_actors_same_country.show()"
   ]
  },
  {
   "cell_type": "code",
   "execution_count": 23,
   "id": "cb591726-63cd-4a0a-8ba4-a86d8e924fa1",
   "metadata": {},
   "outputs": [],
   "source": [
    "spark.stop()"
   ]
  }
 ],
 "metadata": {
  "kernelspec": {
   "display_name": "Python 3 (ipykernel)",
   "language": "python",
   "name": "python3"
  },
  "language_info": {
   "codemirror_mode": {
    "name": "ipython",
    "version": 3
   },
   "file_extension": ".py",
   "mimetype": "text/x-python",
   "name": "python",
   "nbconvert_exporter": "python",
   "pygments_lexer": "ipython3",
   "version": "3.12.4"
  }
 },
 "nbformat": 4,
 "nbformat_minor": 5
}
