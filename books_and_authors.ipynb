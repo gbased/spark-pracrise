{
 "cells": [
  {
   "cell_type": "code",
   "execution_count": 1,
   "id": "b9fcb746-104d-4a5b-aa6c-f4fc65be86aa",
   "metadata": {},
   "outputs": [],
   "source": [
    "from pyspark.sql import SparkSession\n",
    "from pyspark.sql.functions import *"
   ]
  },
  {
   "cell_type": "code",
   "execution_count": 5,
   "id": "956c8fce-0d81-43b3-8f79-2c5db73bd794",
   "metadata": {},
   "outputs": [],
   "source": [
    "spark = SparkSession.builder.appName(\"books-and-authors\").getOrCreate()"
   ]
  },
  {
   "cell_type": "code",
   "execution_count": 8,
   "id": "26013e01-e132-44bc-9283-243cd5765ed9",
   "metadata": {},
   "outputs": [],
   "source": [
    "books_df = spark.read.csv(\"data/book_dir/books.csv\", header=True, inferSchema=True)\n",
    "authors_df = spark.read.csv(\"data/book_dir/authors.csv\", header=True, inferSchema=True)"
   ]
  },
  {
   "cell_type": "code",
   "execution_count": 13,
   "id": "748b5f0a-9382-4406-9aed-72437711a71e",
   "metadata": {},
   "outputs": [
    {
     "name": "stdout",
     "output_type": "stream",
     "text": [
      "root\n",
      " |-- book_id: integer (nullable = true)\n",
      " |-- title: string (nullable = true)\n",
      " |-- author_id: integer (nullable = true)\n",
      " |-- genre: string (nullable = true)\n",
      " |-- price: double (nullable = true)\n",
      " |-- publish_date: date (nullable = true)\n",
      "\n"
     ]
    }
   ],
   "source": [
    "books_df.printSchema()"
   ]
  },
  {
   "cell_type": "code",
   "execution_count": 14,
   "id": "6efa0618-7035-41ab-a678-919c8e1866e4",
   "metadata": {},
   "outputs": [],
   "source": [
    "books_authors_df = books_df.join(authors_df, on = \"author_id\", how=\"inner\")"
   ]
  },
  {
   "cell_type": "markdown",
   "id": "da85b2ab-5bf9-426d-8f8a-f2d8801abcc4",
   "metadata": {},
   "source": [
    "Объединение таблиц"
   ]
  },
  {
   "cell_type": "code",
   "execution_count": 15,
   "id": "3628283c-0fb2-48c4-9f05-8184f9ba371b",
   "metadata": {},
   "outputs": [
    {
     "name": "stdout",
     "output_type": "stream",
     "text": [
      "+---------+-------+-------+-----------+-----+------------+---------+----------+---------+\n",
      "|author_id|book_id|  title|      genre|price|publish_date|     name|birth_date|  country|\n",
      "+---------+-------+-------+-----------+-----+------------+---------+----------+---------+\n",
      "|        2|      1| Book_1|    Mystery|73.57|  1980-12-31| Author_2|1965-12-31|   Canada|\n",
      "|        1|      2| Book_2|Non-Fiction| 41.1|  1982-12-31| Author_1|1960-12-31|    India|\n",
      "|       10|      3| Book_3|    Fiction|10.63|  1984-12-31|Author_10|2005-12-31|    India|\n",
      "|        9|      4| Book_4|Non-Fiction|46.31|  1986-12-31| Author_9|2000-12-31|Australia|\n",
      "|        7|      5| Book_5|    Science|31.13|  1988-12-31| Author_7|1990-12-31|      USA|\n",
      "|        4|      6| Book_6|Non-Fiction| 83.7|  1990-12-31| Author_4|1975-12-31|       UK|\n",
      "|        6|      7| Book_7|Non-Fiction|40.36|  1992-12-31| Author_6|1985-12-31|      USA|\n",
      "|        2|      8| Book_8|Non-Fiction|84.48|  1994-12-31| Author_2|1965-12-31|   Canada|\n",
      "|        7|      9| Book_9|    Fantasy|10.05|  1996-12-31| Author_7|1990-12-31|      USA|\n",
      "|        2|     10|Book_10|    Science| 37.7|  1998-12-31| Author_2|1965-12-31|   Canada|\n",
      "|       10|     11|Book_11|Non-Fiction| 31.7|  2000-12-31|Author_10|2005-12-31|    India|\n",
      "|        8|     12|Book_12|Non-Fiction|31.02|  2002-12-31| Author_8|1995-12-31|Australia|\n",
      "|        8|     13|Book_13|Non-Fiction|16.14|  2004-12-31| Author_8|1995-12-31|Australia|\n",
      "|        1|     14|Book_14|    Fiction|26.84|  2006-12-31| Author_1|1960-12-31|    India|\n",
      "|        8|     15|Book_15|    Fantasy| 60.0|  2008-12-31| Author_8|1995-12-31|Australia|\n",
      "|        2|     16|Book_16|    Fiction|36.22|  2010-12-31| Author_2|1965-12-31|   Canada|\n",
      "|        6|     17|Book_17|    Fantasy|47.57|  2012-12-31| Author_6|1985-12-31|      USA|\n",
      "|        1|     18|Book_18|Non-Fiction|43.92|  2014-12-31| Author_1|1960-12-31|    India|\n",
      "|        5|     19|Book_19|    Science|88.83|  2016-12-31| Author_5|1980-12-31|      USA|\n",
      "|        7|     20|Book_20|    Mystery|91.48|  2018-12-31| Author_7|1990-12-31|      USA|\n",
      "+---------+-------+-------+-----------+-----+------------+---------+----------+---------+\n",
      "\n"
     ]
    }
   ],
   "source": [
    "books_authors_df.show()"
   ]
  },
  {
   "cell_type": "markdown",
   "id": "975c455d-d4fd-4ff6-a875-c576f67eaebe",
   "metadata": {},
   "source": [
    "Топ-5 авторов по выручке"
   ]
  },
  {
   "cell_type": "code",
   "execution_count": 19,
   "id": "99f8da4b-c891-4f1e-80b3-681258a82c43",
   "metadata": {},
   "outputs": [
    {
     "name": "stdout",
     "output_type": "stream",
     "text": [
      "+---------+--------+-------------+\n",
      "|author_id|    name|total_revenue|\n",
      "+---------+--------+-------------+\n",
      "|        2|Author_2|       231.97|\n",
      "|        7|Author_7|       132.66|\n",
      "|        1|Author_1|       111.86|\n",
      "|        8|Author_8|       107.16|\n",
      "|        5|Author_5|        88.83|\n",
      "+---------+--------+-------------+\n",
      "\n"
     ]
    }
   ],
   "source": [
    "best_authors_df = books_authors_df.groupBy(\"author_id\", \"name\").agg(sum(col(\"price\")).alias(\"total_revenue\")).orderBy(col(\"total_revenue\").desc()).limit(5)\n",
    "best_authors_df.show()"
   ]
  },
  {
   "cell_type": "markdown",
   "id": "6c284d2a-c363-4e10-b55d-2f8198e3061b",
   "metadata": {},
   "source": [
    "Количество книг в каждом жанре"
   ]
  },
  {
   "cell_type": "code",
   "execution_count": 26,
   "id": "819d13cd-2e77-438a-a9b7-bd8181fa18b6",
   "metadata": {},
   "outputs": [
    {
     "name": "stdout",
     "output_type": "stream",
     "text": [
      "+-----------+-----+\n",
      "|      genre|count|\n",
      "+-----------+-----+\n",
      "|Non-Fiction|    9|\n",
      "|    Science|    3|\n",
      "|    Fiction|    3|\n",
      "|    Fantasy|    3|\n",
      "|    Mystery|    2|\n",
      "+-----------+-----+\n",
      "\n"
     ]
    }
   ],
   "source": [
    "genre_df = books_authors_df.groupBy(\"genre\").count().orderBy(col(\"count\").desc())\n",
    "genre_df.show()"
   ]
  },
  {
   "cell_type": "markdown",
   "id": "91b16323-f242-4b02-8459-859a0f9d31ac",
   "metadata": {},
   "source": [
    "Средняя цена книг по каждому автору"
   ]
  },
  {
   "cell_type": "code",
   "execution_count": 31,
   "id": "44c2f76f-7ecb-441f-a896-fc0f148be6d6",
   "metadata": {},
   "outputs": [
    {
     "name": "stdout",
     "output_type": "stream",
     "text": [
      "+---------+---------+-----------------+\n",
      "|author_id|     name|    average_price|\n",
      "+---------+---------+-----------------+\n",
      "|        5| Author_5|            88.83|\n",
      "|        4| Author_4|             83.7|\n",
      "|        2| Author_2|          57.9925|\n",
      "|        9| Author_9|            46.31|\n",
      "|        7| Author_7|            44.22|\n",
      "|        6| Author_6|           43.965|\n",
      "|        1| Author_1|37.28666666666667|\n",
      "|        8| Author_8|            35.72|\n",
      "|       10|Author_10|           21.165|\n",
      "+---------+---------+-----------------+\n",
      "\n"
     ]
    }
   ],
   "source": [
    "avg_price_df = books_authors_df.groupBy(col(\"author_id\"), col(\"name\")).agg(avg(\"price\").alias(\"average_price\")).orderBy(col(\"average_price\").desc())\n",
    "avg_price_df.show()"
   ]
  },
  {
   "cell_type": "code",
   "execution_count": null,
   "id": "6d332c98-f12e-432f-ae13-3b067d191312",
   "metadata": {},
   "outputs": [],
   "source": [
    "Книги, опубликованные после 2000 года, отсортированные по цене"
   ]
  },
  {
   "cell_type": "code",
   "execution_count": 39,
   "id": "fe17cfa7-f68a-487c-89a2-92f36597fd4b",
   "metadata": {},
   "outputs": [
    {
     "name": "stdout",
     "output_type": "stream",
     "text": [
      "+---------+-------+-------+-----------+-----+------------+--------+----------+---------+\n",
      "|author_id|book_id|  title|      genre|price|publish_date|    name|birth_date|  country|\n",
      "+---------+-------+-------+-----------+-----+------------+--------+----------+---------+\n",
      "|        7|     20|Book_20|    Mystery|91.48|  2018-12-31|Author_7|1990-12-31|      USA|\n",
      "|        5|     19|Book_19|    Science|88.83|  2016-12-31|Author_5|1980-12-31|      USA|\n",
      "|        8|     15|Book_15|    Fantasy| 60.0|  2008-12-31|Author_8|1995-12-31|Australia|\n",
      "|        6|     17|Book_17|    Fantasy|47.57|  2012-12-31|Author_6|1985-12-31|      USA|\n",
      "|        1|     18|Book_18|Non-Fiction|43.92|  2014-12-31|Author_1|1960-12-31|    India|\n",
      "|        2|     16|Book_16|    Fiction|36.22|  2010-12-31|Author_2|1965-12-31|   Canada|\n",
      "|        8|     12|Book_12|Non-Fiction|31.02|  2002-12-31|Author_8|1995-12-31|Australia|\n",
      "|        1|     14|Book_14|    Fiction|26.84|  2006-12-31|Author_1|1960-12-31|    India|\n",
      "|        8|     13|Book_13|Non-Fiction|16.14|  2004-12-31|Author_8|1995-12-31|Australia|\n",
      "+---------+-------+-------+-----------+-----+------------+--------+----------+---------+\n",
      "\n"
     ]
    }
   ],
   "source": [
    "modern_books_df = books_authors_df.select(\"*\").where(year(\"publish_date\") > 2000).orderBy(col(\"price\").desc())\n",
    "modern_books_df.show()"
   ]
  },
  {
   "cell_type": "code",
   "execution_count": null,
   "id": "5536f360-2d69-4d69-ba53-1da0d7cea6b0",
   "metadata": {},
   "outputs": [],
   "source": []
  }
 ],
 "metadata": {
  "kernelspec": {
   "display_name": "Python 3 (ipykernel)",
   "language": "python",
   "name": "python3"
  },
  "language_info": {
   "codemirror_mode": {
    "name": "ipython",
    "version": 3
   },
   "file_extension": ".py",
   "mimetype": "text/x-python",
   "name": "python",
   "nbconvert_exporter": "python",
   "pygments_lexer": "ipython3",
   "version": "3.12.4"
  }
 },
 "nbformat": 4,
 "nbformat_minor": 5
}
